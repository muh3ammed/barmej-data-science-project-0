{
 "cells": [
  {
   "cell_type": "markdown",
   "id": "5b98ab88",
   "metadata": {},
   "source": [
    "## تمارين لغة بايثون"
   ]
  },
  {
   "cell_type": "markdown",
   "id": "05333e5c",
   "metadata": {},
   "source": [
    "### المهمة الأولى\n",
    "\n",
    "لدينا أربعة متغيرات هنا، هل يمكننا برمجيًا معرفة نوع هذه المتغيرات؟\n",
    "يرجى كتابة الحل المقترح"
   ]
  },
  {
   "cell_type": "code",
   "execution_count": 10,
   "id": "5e0b8d3d",
   "metadata": {},
   "outputs": [
    {
     "name": "stdout",
     "output_type": "stream",
     "text": [
      "type of x = <class 'int'>\n",
      "type of y = <class 'float'>\n",
      "type of z = <class 'bool'>\n",
      "type of s = <class 'str'>\n"
     ]
    }
   ],
   "source": [
    "x = 7\n",
    "y = x/3\n",
    "z = x == 7\n",
    "s = \"Hello python programmer!\"\n",
    "print(f'type of x = {type(x)}')\n",
    "print(f'type of y = {type(y)}')\n",
    "print(f'type of z = {type(z)}')\n",
    "print(f'type of s = {type(s)}')"
   ]
  },
  {
   "cell_type": "markdown",
   "id": "def6af66",
   "metadata": {},
   "source": [
    "### المهمة الثانية\n",
    "نرغب بطباعة الجملة التالية:\n",
    "\n",
    "\"I want to pay 10.5 riyals for 2 pieces of this item.\"\n",
    "\n",
    "لكننا سنقوم باستخدام المتغيرات المعرفة لدينا (متغير السعر ومتغير الكمية) بدلا من إعادة كتابة الأرقام، هل يمكنك فعلها؟"
   ]
  },
  {
   "cell_type": "code",
   "execution_count": 11,
   "id": "bcf6e8d6",
   "metadata": {},
   "outputs": [
    {
     "name": "stdout",
     "output_type": "stream",
     "text": [
      "I want to pay 10.5 riyals for 2 pieces of this item.\n"
     ]
    }
   ],
   "source": [
    "quantity = 2\n",
    "price = 10.5\n",
    "text = f'I want to pay {price} riyals for {quantity} pieces of this item.'\n",
    "print(text)"
   ]
  },
  {
   "cell_type": "markdown",
   "id": "8579213e",
   "metadata": {},
   "source": [
    "### المهمة الثالثة\n",
    "قم بكتابة دالة تقوم بمقارنة الرقم المدخل (مثل ١٩) بالرقم ١٠ و تخبرك ما إذا كان أكبر من الرقم ١٠ أم لا"
   ]
  },
  {
   "cell_type": "code",
   "execution_count": 12,
   "id": "8c050038",
   "metadata": {},
   "outputs": [
    {
     "name": "stdout",
     "output_type": "stream",
     "text": [
      "YES\n"
     ]
    }
   ],
   "source": [
    "def bigger_than_10(x):\n",
    "    \n",
    "    if x > 10:\n",
    "        print('YES')\n",
    "    else:\n",
    "        print('NO')\n",
    "    \n",
    "bigger_than_10(19)"
   ]
  },
  {
   "cell_type": "markdown",
   "id": "8efad535",
   "metadata": {},
   "source": [
    "### المهمة الرابعة\n",
    "لدينا قائمة من الفواكه، كيف يمكننا برمجيا الحصول على آخر فاكهتين في القائمة؟"
   ]
  },
  {
   "cell_type": "code",
   "execution_count": 16,
   "id": "8ccec6c1",
   "metadata": {},
   "outputs": [
    {
     "name": "stdout",
     "output_type": "stream",
     "text": [
      "['melon', 'mango']\n"
     ]
    }
   ],
   "source": [
    "fruites = [\"apple\", \"banana\", \"cherry\", \"orange\", \"kiwi\", \"melon\", \"mango\"]\n",
    "print(fruites[-2:])"
   ]
  },
  {
   "cell_type": "markdown",
   "id": "183683ea",
   "metadata": {},
   "source": [
    "### المهمة الخامسة\n",
    "لنفترض أن لدينا المعجم التالي، نريد إضافة المفتاح\n",
    "\n",
    "black\n",
    "\n",
    "بالقيمة\n",
    "\n",
    "000000"
   ]
  },
  {
   "cell_type": "code",
   "execution_count": 17,
   "id": "680c48d5",
   "metadata": {},
   "outputs": [],
   "source": [
    "colors = {\n",
    "  \"blue\": \"0000FF\",\n",
    "  \"green\": \"00FF00\",\n",
    "  \"yellow\": \"FFFF00\",\n",
    "  \"red\": \"FF0000\",\n",
    "  \"white\": \"unknown\"\n",
    "}"
   ]
  },
  {
   "cell_type": "code",
   "execution_count": 19,
   "id": "6f8ba695",
   "metadata": {},
   "outputs": [
    {
     "data": {
      "text/plain": [
       "{'blue': '0000FF',\n",
       " 'green': '00FF00',\n",
       " 'yellow': 'FFFF00',\n",
       " 'red': 'FF0000',\n",
       " 'white': 'unknown',\n",
       " 'black': '000000'}"
      ]
     },
     "execution_count": 19,
     "metadata": {},
     "output_type": "execute_result"
    }
   ],
   "source": [
    "colors['black'] = '000000'\n",
    "colors"
   ]
  },
  {
   "cell_type": "markdown",
   "id": "8296e125",
   "metadata": {},
   "source": [
    "هل يمكننا تغيير قيمة المفتاح\n",
    "\n",
    "white\n",
    "\n",
    "بالقيمة\n",
    "\n",
    "FFFFFF ?"
   ]
  },
  {
   "cell_type": "code",
   "execution_count": 21,
   "id": "1399cb0e",
   "metadata": {},
   "outputs": [
    {
     "data": {
      "text/plain": [
       "{'blue': '0000FF',\n",
       " 'green': '00FF00',\n",
       " 'yellow': 'FFFF00',\n",
       " 'red': 'FF0000',\n",
       " 'white': 'FFFFFF',\n",
       " 'black': '000000'}"
      ]
     },
     "execution_count": 21,
     "metadata": {},
     "output_type": "execute_result"
    }
   ],
   "source": [
    "colors['white'] = 'FFFFFF'\n",
    "colors"
   ]
  },
  {
   "cell_type": "markdown",
   "id": "e6b3abd3",
   "metadata": {},
   "source": [
    "نريد إنشاء دالة تقوم بأخذ قائمة و استبدال عناصرها بالقيم من المعجم بالاستعانة بالمفاتيح مثال: نستبدل\n",
    "\n",
    "blue\n",
    "\n",
    "بالقيمة\n",
    "\n",
    "0000FF"
   ]
  },
  {
   "cell_type": "code",
   "execution_count": 24,
   "id": "022c45da",
   "metadata": {},
   "outputs": [],
   "source": [
    "def exchange_values(lista):\n",
    "    for i in range(len(lista)):\n",
    "        lista[i] = colors[lista[i]]"
   ]
  },
  {
   "cell_type": "code",
   "execution_count": 25,
   "id": "d3890c88",
   "metadata": {},
   "outputs": [
    {
     "data": {
      "text/plain": [
       "['0000FF', 'FFFFFF', '000000', 'FFFF00', '00FF00', 'FF0000']"
      ]
     },
     "execution_count": 25,
     "metadata": {},
     "output_type": "execute_result"
    }
   ],
   "source": [
    "lista = ['blue', 'white', 'black', 'yellow', 'green', 'red']\n",
    "exchange_values(lista)\n",
    "lista"
   ]
  }
 ],
 "metadata": {
  "kernelspec": {
   "display_name": "Python 3",
   "language": "python",
   "name": "python3"
  },
  "language_info": {
   "codemirror_mode": {
    "name": "ipython",
    "version": 3
   },
   "file_extension": ".py",
   "mimetype": "text/x-python",
   "name": "python",
   "nbconvert_exporter": "python",
   "pygments_lexer": "ipython3",
   "version": "3.8.8"
  }
 },
 "nbformat": 4,
 "nbformat_minor": 5
}
